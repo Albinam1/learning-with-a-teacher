{
 "cells": [
  {
   "cell_type": "markdown",
   "metadata": {},
   "source": [
    "Инструкция по выполнению проекта\n",
    "Загрузите и подготовьте данные. Поясните порядок действий.\n",
    "Исследуйте баланс классов, обучите модель без учёта дисбаланса. Кратко опишите выводы.\n",
    "Улучшите качество модели, учитывая дисбаланс классов. Обучите разные модели и найдите лучшую. Кратко опишите выводы.\n",
    "Проведите финальное тестирование.\n",
    "Описание данных\n",
    "Данные находятся в файле /datasets/Churn.csv (англ. «отток клиентов»). Скачать датасет"
   ]
  },
  {
   "cell_type": "raw",
   "metadata": {},
   "source": [
    "Признаки\n",
    "RowNumber — индекс строки в данных\n",
    "CustomerId — уникальный идентификатор клиента\n",
    "Surname — фамилия\n",
    "CreditScore — кредитный рейтинг\n",
    "Geography — страна проживания\n",
    "Gender — пол\n",
    "Age — возраст\n",
    "Tenure — сколько лет человек является клиентом банка\n",
    "Balance — баланс на счёте\n",
    "NumOfProducts — количество продуктов банка, используемых клиентом\n",
    "HasCrCard — наличие кредитной карты\n",
    "IsActiveMember — активность клиента\n",
    "EstimatedSalary — предполагаемая зарплата\n",
    "Целевой признак\n",
    "Exited — факт ухода клиента"
   ]
  },
  {
   "cell_type": "markdown",
   "metadata": {},
   "source": [
    "## Признаки\n",
    "- RowNumber — индекс строки в данных\n",
    "- CustomerId — уникальный идентификатор клиента\n",
    "- Surname — фамилия\n",
    "- CreditScore — кредитный рейтинг\n",
    "- Geography — страна проживания\n",
    "- Gender — пол\n",
    "= Age — возраст\n",
    "- Tenure — сколько лет человек является клиентом банка\n",
    "- Balance — баланс на счёте\n",
    "- NumOfProducts — количество продуктов банка, используемых клиентом\n",
    "- HasCrCard — наличие кредитной карты\n",
    "- IsActiveMember — активность клиента\n",
    "- EstimatedSalary — предполагаемая зарплата\n",
    "## Целевой признак\n",
    "- Exited — факт ухода клиента"
   ]
  },
  {
   "cell_type": "markdown",
   "metadata": {
    "toc": true
   },
   "source": [
    "<h1>Содержание<span class=\"tocSkip\"></span></h1>\n",
    "<div class=\"toc\"><ul class=\"toc-item\"><li><span><a href=\"#Подготовка-данных\" data-toc-modified-id=\"Подготовка-данных-1\"><span class=\"toc-item-num\">1&nbsp;&nbsp;</span>Подготовка данных</a></span></li><li><span><a href=\"#Исследование-задачи\" data-toc-modified-id=\"Исследование-задачи-2\"><span class=\"toc-item-num\">2&nbsp;&nbsp;</span>Исследование задачи</a></span></li><li><span><a href=\"#Борьба-с-дисбалансом\" data-toc-modified-id=\"Борьба-с-дисбалансом-3\"><span class=\"toc-item-num\">3&nbsp;&nbsp;</span>Борьба с дисбалансом</a></span></li><li><span><a href=\"#Тестирование-модели\" data-toc-modified-id=\"Тестирование-модели-4\"><span class=\"toc-item-num\">4&nbsp;&nbsp;</span>Тестирование модели</a></span></li><li><span><a href=\"#Чек-лист-готовности-проекта\" data-toc-modified-id=\"Чек-лист-готовности-проекта-5\"><span class=\"toc-item-num\">5&nbsp;&nbsp;</span>Чек-лист готовности проекта</a></span></li></ul></div>"
   ]
  },
  {
   "cell_type": "markdown",
   "metadata": {},
   "source": [
    "# Отток клиентов"
   ]
  },
  {
   "cell_type": "markdown",
   "metadata": {},
   "source": [
    "Из «Бета-Банка» стали уходить клиенты. Каждый месяц. Немного, но заметно. Банковские маркетологи посчитали: сохранять текущих клиентов дешевле, чем привлекать новых.\n",
    "\n",
    "Нужно спрогнозировать, уйдёт клиент из банка в ближайшее время или нет. Вам предоставлены исторические данные о поведении клиентов и расторжении договоров с банком. \n",
    "\n",
    "Постройте модель с предельно большим значением *F1*-меры. Чтобы сдать проект успешно, нужно довести метрику до 0.59. Проверьте *F1*-меру на тестовой выборке самостоятельно.\n",
    "\n",
    "Дополнительно измеряйте *AUC-ROC*, сравнивайте её значение с *F1*-мерой.\n",
    "\n",
    "Источник данных: [https://www.kaggle.com/barelydedicated/bank-customer-churn-modeling](https://www.kaggle.com/barelydedicated/bank-customer-churn-modeling)"
   ]
  },
  {
   "cell_type": "markdown",
   "metadata": {},
   "source": [
    "## Подготовка данных"
   ]
  },
  {
   "cell_type": "code",
   "execution_count": 1,
   "metadata": {},
   "outputs": [
    {
     "name": "stdout",
     "output_type": "stream",
     "text": [
      "Requirement already satisfied: scikit-learn==1.1.3 in /opt/conda/lib/python3.9/site-packages (1.1.3)\r\n",
      "Requirement already satisfied: threadpoolctl>=2.0.0 in /opt/conda/lib/python3.9/site-packages (from scikit-learn==1.1.3) (3.1.0)\r\n",
      "Requirement already satisfied: scipy>=1.3.2 in /opt/conda/lib/python3.9/site-packages (from scikit-learn==1.1.3) (1.9.1)\r\n",
      "Requirement already satisfied: joblib>=1.0.0 in /opt/conda/lib/python3.9/site-packages (from scikit-learn==1.1.3) (1.1.0)\r\n",
      "Requirement already satisfied: numpy>=1.17.3 in /opt/conda/lib/python3.9/site-packages (from scikit-learn==1.1.3) (1.21.1)\r\n"
     ]
    }
   ],
   "source": [
    "!pip install scikit-learn==1.1.3"
   ]
  },
  {
   "cell_type": "code",
   "execution_count": 72,
   "metadata": {},
   "outputs": [],
   "source": [
    "import pandas as pd\n",
    "import matplotlib.pyplot as plt\n",
    "\n",
    "from sklearn.model_selection import train_test_split\n",
    "from sklearn.preprocessing import OrdinalEncoder, StandardScaler\n",
    "from sklearn.utils import shuffle\n",
    "\n",
    "from sklearn.tree import DecisionTreeClassifier\n",
    "from sklearn.ensemble import RandomForestClassifier\n",
    "from sklearn.linear_model import LogisticRegression\n",
    "\n",
    "from sklearn.metrics import f1_score, roc_auc_score"
   ]
  },
  {
   "cell_type": "code",
   "execution_count": 73,
   "metadata": {},
   "outputs": [
    {
     "data": {
      "text/html": [
       "<div>\n",
       "<style scoped>\n",
       "    .dataframe tbody tr th:only-of-type {\n",
       "        vertical-align: middle;\n",
       "    }\n",
       "\n",
       "    .dataframe tbody tr th {\n",
       "        vertical-align: top;\n",
       "    }\n",
       "\n",
       "    .dataframe thead th {\n",
       "        text-align: right;\n",
       "    }\n",
       "</style>\n",
       "<table border=\"1\" class=\"dataframe\">\n",
       "  <thead>\n",
       "    <tr style=\"text-align: right;\">\n",
       "      <th></th>\n",
       "      <th>RowNumber</th>\n",
       "      <th>CustomerId</th>\n",
       "      <th>Surname</th>\n",
       "      <th>CreditScore</th>\n",
       "      <th>Geography</th>\n",
       "      <th>Gender</th>\n",
       "      <th>Age</th>\n",
       "      <th>Tenure</th>\n",
       "      <th>Balance</th>\n",
       "      <th>NumOfProducts</th>\n",
       "      <th>HasCrCard</th>\n",
       "      <th>IsActiveMember</th>\n",
       "      <th>EstimatedSalary</th>\n",
       "      <th>Exited</th>\n",
       "    </tr>\n",
       "  </thead>\n",
       "  <tbody>\n",
       "    <tr>\n",
       "      <th>0</th>\n",
       "      <td>1</td>\n",
       "      <td>15634602</td>\n",
       "      <td>Hargrave</td>\n",
       "      <td>619</td>\n",
       "      <td>France</td>\n",
       "      <td>Female</td>\n",
       "      <td>42</td>\n",
       "      <td>2.0</td>\n",
       "      <td>0.00</td>\n",
       "      <td>1</td>\n",
       "      <td>1</td>\n",
       "      <td>1</td>\n",
       "      <td>101348.88</td>\n",
       "      <td>1</td>\n",
       "    </tr>\n",
       "    <tr>\n",
       "      <th>1</th>\n",
       "      <td>2</td>\n",
       "      <td>15647311</td>\n",
       "      <td>Hill</td>\n",
       "      <td>608</td>\n",
       "      <td>Spain</td>\n",
       "      <td>Female</td>\n",
       "      <td>41</td>\n",
       "      <td>1.0</td>\n",
       "      <td>83807.86</td>\n",
       "      <td>1</td>\n",
       "      <td>0</td>\n",
       "      <td>1</td>\n",
       "      <td>112542.58</td>\n",
       "      <td>0</td>\n",
       "    </tr>\n",
       "    <tr>\n",
       "      <th>2</th>\n",
       "      <td>3</td>\n",
       "      <td>15619304</td>\n",
       "      <td>Onio</td>\n",
       "      <td>502</td>\n",
       "      <td>France</td>\n",
       "      <td>Female</td>\n",
       "      <td>42</td>\n",
       "      <td>8.0</td>\n",
       "      <td>159660.80</td>\n",
       "      <td>3</td>\n",
       "      <td>1</td>\n",
       "      <td>0</td>\n",
       "      <td>113931.57</td>\n",
       "      <td>1</td>\n",
       "    </tr>\n",
       "    <tr>\n",
       "      <th>3</th>\n",
       "      <td>4</td>\n",
       "      <td>15701354</td>\n",
       "      <td>Boni</td>\n",
       "      <td>699</td>\n",
       "      <td>France</td>\n",
       "      <td>Female</td>\n",
       "      <td>39</td>\n",
       "      <td>1.0</td>\n",
       "      <td>0.00</td>\n",
       "      <td>2</td>\n",
       "      <td>0</td>\n",
       "      <td>0</td>\n",
       "      <td>93826.63</td>\n",
       "      <td>0</td>\n",
       "    </tr>\n",
       "    <tr>\n",
       "      <th>4</th>\n",
       "      <td>5</td>\n",
       "      <td>15737888</td>\n",
       "      <td>Mitchell</td>\n",
       "      <td>850</td>\n",
       "      <td>Spain</td>\n",
       "      <td>Female</td>\n",
       "      <td>43</td>\n",
       "      <td>2.0</td>\n",
       "      <td>125510.82</td>\n",
       "      <td>1</td>\n",
       "      <td>1</td>\n",
       "      <td>1</td>\n",
       "      <td>79084.10</td>\n",
       "      <td>0</td>\n",
       "    </tr>\n",
       "  </tbody>\n",
       "</table>\n",
       "</div>"
      ],
      "text/plain": [
       "   RowNumber  CustomerId   Surname  CreditScore Geography  Gender  Age  \\\n",
       "0          1    15634602  Hargrave          619    France  Female   42   \n",
       "1          2    15647311      Hill          608     Spain  Female   41   \n",
       "2          3    15619304      Onio          502    France  Female   42   \n",
       "3          4    15701354      Boni          699    France  Female   39   \n",
       "4          5    15737888  Mitchell          850     Spain  Female   43   \n",
       "\n",
       "   Tenure    Balance  NumOfProducts  HasCrCard  IsActiveMember  \\\n",
       "0     2.0       0.00              1          1               1   \n",
       "1     1.0   83807.86              1          0               1   \n",
       "2     8.0  159660.80              3          1               0   \n",
       "3     1.0       0.00              2          0               0   \n",
       "4     2.0  125510.82              1          1               1   \n",
       "\n",
       "   EstimatedSalary  Exited  \n",
       "0        101348.88       1  \n",
       "1        112542.58       0  \n",
       "2        113931.57       1  \n",
       "3         93826.63       0  \n",
       "4         79084.10       0  "
      ]
     },
     "execution_count": 73,
     "metadata": {},
     "output_type": "execute_result"
    }
   ],
   "source": [
    "data = pd.read_csv(\"/datasets/Churn.csv\")\n",
    "data.head()"
   ]
  },
  {
   "cell_type": "code",
   "execution_count": 74,
   "metadata": {},
   "outputs": [
    {
     "data": {
      "text/plain": [
       "(10000, 14)"
      ]
     },
     "execution_count": 74,
     "metadata": {},
     "output_type": "execute_result"
    }
   ],
   "source": [
    "data.shape"
   ]
  },
  {
   "cell_type": "code",
   "execution_count": 75,
   "metadata": {},
   "outputs": [
    {
     "name": "stdout",
     "output_type": "stream",
     "text": [
      "<class 'pandas.core.frame.DataFrame'>\n",
      "RangeIndex: 10000 entries, 0 to 9999\n",
      "Data columns (total 14 columns):\n",
      " #   Column           Non-Null Count  Dtype  \n",
      "---  ------           --------------  -----  \n",
      " 0   RowNumber        10000 non-null  int64  \n",
      " 1   CustomerId       10000 non-null  int64  \n",
      " 2   Surname          10000 non-null  object \n",
      " 3   CreditScore      10000 non-null  int64  \n",
      " 4   Geography        10000 non-null  object \n",
      " 5   Gender           10000 non-null  object \n",
      " 6   Age              10000 non-null  int64  \n",
      " 7   Tenure           9091 non-null   float64\n",
      " 8   Balance          10000 non-null  float64\n",
      " 9   NumOfProducts    10000 non-null  int64  \n",
      " 10  HasCrCard        10000 non-null  int64  \n",
      " 11  IsActiveMember   10000 non-null  int64  \n",
      " 12  EstimatedSalary  10000 non-null  float64\n",
      " 13  Exited           10000 non-null  int64  \n",
      "dtypes: float64(3), int64(8), object(3)\n",
      "memory usage: 1.1+ MB\n"
     ]
    }
   ],
   "source": [
    "data.info()"
   ]
  },
  {
   "cell_type": "code",
   "execution_count": 76,
   "metadata": {},
   "outputs": [
    {
     "data": {
      "text/plain": [
       "0"
      ]
     },
     "execution_count": 76,
     "metadata": {},
     "output_type": "execute_result"
    }
   ],
   "source": [
    "data.duplicated().sum()"
   ]
  },
  {
   "cell_type": "code",
   "execution_count": 77,
   "metadata": {},
   "outputs": [
    {
     "data": {
      "text/plain": [
       "RowNumber            0\n",
       "CustomerId           0\n",
       "Surname              0\n",
       "CreditScore          0\n",
       "Geography            0\n",
       "Gender               0\n",
       "Age                  0\n",
       "Tenure             909\n",
       "Balance              0\n",
       "NumOfProducts        0\n",
       "HasCrCard            0\n",
       "IsActiveMember       0\n",
       "EstimatedSalary      0\n",
       "Exited               0\n",
       "dtype: int64"
      ]
     },
     "execution_count": 77,
     "metadata": {},
     "output_type": "execute_result"
    }
   ],
   "source": [
    "data.isna().sum()"
   ]
  },
  {
   "cell_type": "markdown",
   "metadata": {},
   "source": [
    "Избавимся от пропущенных значений"
   ]
  },
  {
   "cell_type": "code",
   "execution_count": 78,
   "metadata": {},
   "outputs": [],
   "source": [
    "data.dropna(subset = [\"Tenure\"], inplace = True)"
   ]
  },
  {
   "cell_type": "markdown",
   "metadata": {},
   "source": [
    "<div style=\"background: #B0E0E6; padding: 5px; border: 1px solid SteelBlue; border-radius: 5px;\">\n",
    "    <font color='4682B4'> <u><b> </b></u></font>\n",
    "    <br />\n",
    "    <font color='4682B4'> Ну чтобы не исказить значения, которые будут выведены после машинного обучения,  не заменила эти значения на другие, так как это могло бы привести к переобучению модели</font>\n",
    "</div>"
   ]
  },
  {
   "cell_type": "code",
   "execution_count": 79,
   "metadata": {},
   "outputs": [
    {
     "data": {
      "image/png": "[encoded data removed]",
      "text/plain": [
       "<Figure size 1080x1440 with 12 Axes>"
      ]
     },
     "metadata": {
      "needs_background": "light"
     },
     "output_type": "display_data"
    }
   ],
   "source": [
    "data.hist(figsize = (15,20));"
   ]
  },
  {
   "cell_type": "markdown",
   "metadata": {},
   "source": [
    "**Вывод:**\n",
    "Целевой признак для нашей задачи – Exited, модель должна будет предсказывать значение 1 если клиент уйдет или 0 если нет. "
   ]
  },
  {
   "cell_type": "markdown",
   "metadata": {},
   "source": [
    "## Исследование задачи"
   ]
  },
  {
   "cell_type": "markdown",
   "metadata": {},
   "source": [
    "Преобразуем категориальные признаки"
   ]
  },
  {
   "cell_type": "code",
   "execution_count": 80,
   "metadata": {},
   "outputs": [
    {
     "data": {
      "text/plain": [
       "array(['France', 'Spain', 'Germany'], dtype=object)"
      ]
     },
     "execution_count": 80,
     "metadata": {},
     "output_type": "execute_result"
    }
   ],
   "source": [
    "data[\"Geography\"].unique()\n",
    "#cстран тоже не так много, поэтому тоже можем преобразовать данные "
   ]
  },
  {
   "cell_type": "code",
   "execution_count": 81,
   "metadata": {},
   "outputs": [],
   "source": [
    "data_ohe = data.drop([\"RowNumber\", \"CustomerId\", \"Surname\"], axis=1)\n",
    "data_ohe = pd.get_dummies(data_ohe, drop_first=True)"
   ]
  },
  {
   "cell_type": "code",
   "execution_count": 82,
   "metadata": {},
   "outputs": [
    {
     "name": "stdout",
     "output_type": "stream",
     "text": [
      "<class 'pandas.core.frame.DataFrame'>\n",
      "Int64Index: 9091 entries, 0 to 9998\n",
      "Data columns (total 12 columns):\n",
      " #   Column             Non-Null Count  Dtype  \n",
      "---  ------             --------------  -----  \n",
      " 0   CreditScore        9091 non-null   int64  \n",
      " 1   Age                9091 non-null   int64  \n",
      " 2   Tenure             9091 non-null   float64\n",
      " 3   Balance            9091 non-null   float64\n",
      " 4   NumOfProducts      9091 non-null   int64  \n",
      " 5   HasCrCard          9091 non-null   int64  \n",
      " 6   IsActiveMember     9091 non-null   int64  \n",
      " 7   EstimatedSalary    9091 non-null   float64\n",
      " 8   Exited             9091 non-null   int64  \n",
      " 9   Geography_Germany  9091 non-null   uint8  \n",
      " 10  Geography_Spain    9091 non-null   uint8  \n",
      " 11  Gender_Male        9091 non-null   uint8  \n",
      "dtypes: float64(3), int64(6), uint8(3)\n",
      "memory usage: 736.9 KB\n"
     ]
    }
   ],
   "source": [
    "data_ohe.info()"
   ]
  },
  {
   "cell_type": "code",
   "execution_count": 83,
   "metadata": {},
   "outputs": [],
   "source": [
    "#data['Gender'] = pd.get_dummies(data['Gender'], drop_first=True)"
   ]
  },
  {
   "cell_type": "code",
   "execution_count": 84,
   "metadata": {},
   "outputs": [],
   "source": [
    "#data[\"Geography\"] = pd.get_dummies(data['Geography'], drop_first=True)"
   ]
  },
  {
   "cell_type": "markdown",
   "metadata": {},
   "source": [
    "Удалим столбцы, которые не несут информации, нужной для машинного обучения:\n",
    "RowNumber — индекс строки в данных\n",
    "CustomerId — уникальный идентификатор клиента\n",
    "Surname — фамилия\n",
    "\n",
    "Определим targer(целевой признак) и features(признак для обучения модели)"
   ]
  },
  {
   "cell_type": "code",
   "execution_count": 85,
   "metadata": {},
   "outputs": [],
   "source": [
    "target = data_ohe[\"Exited\"]\n",
    "features = data_ohe.drop(\"Exited\", axis=1)"
   ]
  },
  {
   "cell_type": "markdown",
   "metadata": {},
   "source": [
    "Разобьем исходный набор данных на три части- обучающую, валидационную и тестовую (3:1:1)"
   ]
  },
  {
   "cell_type": "code",
   "execution_count": 86,
   "metadata": {},
   "outputs": [],
   "source": [
    "features_train, features_valid, target_train, target_valid = train_test_split(features, target, test_size = 0.4, random_state = 12345)\n",
    "features_valid, features_test, target_valid, target_test = train_test_split(features_valid, target_valid, test_size = 0.5, random_state = 12345)"
   ]
  },
  {
   "cell_type": "markdown",
   "metadata": {},
   "source": [
    "## Совет\n",
    "    \n",
    "Можно использовать класс <a href=\"https://scikit-learn.org/stable/modules/generated/sklearn.preprocessing.OneHotEncoder.html\">OHE из sklearn</a>. \n",
    "\n",
    "Практикум подготовил инструкцию, как использовать OHE: https://colab.research.google.com/drive/1_gAMXcQKoCShB_l8FNtYEejMnosm9mvt?usp=sharing \n",
    "\n",
    "Есть загвоздка, что нам нужно будет одновременно использовать параметры drop='first' и handle_unknown='ignore’.  в OHE, а на платформе такое сочетание может выдавать ошибку (в части случаев). Если ошибка появляется, необходимо загрузить нужную версию сайкит-лерна. Для этого:\n",
    "\n",
    "1. В отдельной строке в самом начале проекта запускаем такую команду:\n",
    " `!pip install scikit-learn==1.1.3`\n",
    "     \n",
    "2. Находим в меню юпитера кнопку `Kernel`, нажимаем и выбираем Restart&Run all \n",
    "\n",
    "\n",
    "И сразу уточню, что OHE мы используем уже после разделения выборок на обучающую, валидационную и тестовую. Обучаем на трейне, применяем ко всем. Кодируем после разбиения по аналогии с масштабированием. Посмотреть поподробнее также можно здесь <a href=\"https://stackoverflow.com/questions/55525195/do-i-have-to-do-one-hot-encoding-separately-for-train-and-test-dataset\">можно здесь</a> .\n",
    "      \n",
    "</div> \n"
   ]
  },
  {
   "cell_type": "markdown",
   "metadata": {},
   "source": [
    "Масштабируем признаки"
   ]
  },
  {
   "cell_type": "code",
   "execution_count": 87,
   "metadata": {},
   "outputs": [],
   "source": [
    "pd.options.mode.chained_assignment = None"
   ]
  },
  {
   "cell_type": "code",
   "execution_count": 88,
   "metadata": {},
   "outputs": [],
   "source": [
    "scaler = StandardScaler()\n",
    "numeric = ['CreditScore', 'Age', 'Tenure', 'Balance', 'NumOfProducts', 'EstimatedSalary']\n",
    "scaler.fit(features_train[numeric])\n",
    "    \n",
    "features_train[numeric] = scaler.transform(features_train[numeric])\n",
    "features_valid[numeric] = scaler.transform(features_valid[numeric])\n",
    "features_test[numeric] = scaler.transform(features_test[numeric])"
   ]
  },
  {
   "cell_type": "markdown",
   "metadata": {},
   "source": [
    "Изучим исследуемый параметр"
   ]
  },
  {
   "cell_type": "code",
   "execution_count": 89,
   "metadata": {},
   "outputs": [
    {
     "data": {
      "text/plain": [
       "0    7237\n",
       "1    1854\n",
       "Name: Exited, dtype: int64"
      ]
     },
     "execution_count": 89,
     "metadata": {},
     "output_type": "execute_result"
    },
    {
     "data": {
      "image/png": "[encoded data removed]",
      "text/plain": [
       "<Figure size 1080x720 with 1 Axes>"
      ]
     },
     "metadata": {
      "needs_background": "light"
     },
     "output_type": "display_data"
    }
   ],
   "source": [
    "plt.figure(figsize=(15, 10))\n",
    "data[\"Exited\"].value_counts().plot(kind = \"bar\", title = \"Соотношение в целевом признаке\", label = '0-не ушел, 1-клиент ушел') \n",
    "data[\"Exited\"].value_counts()"
   ]
  },
  {
   "cell_type": "markdown",
   "metadata": {},
   "source": [
    "Соотношение признаков несбалансировано. В этой задаче наблюдается сильный дисбаланс классов, что плохо сказывается на обучении модели. Классы несбалансированны, когда их соотношение далеко от 1:1."
   ]
  },
  {
   "cell_type": "markdown",
   "metadata": {},
   "source": [
    "Accuracy в случае дисбаланса классов не подходит."
   ]
  },
  {
   "cell_type": "markdown",
   "metadata": {},
   "source": [
    "**Вывод**"
   ]
  },
  {
   "cell_type": "markdown",
   "metadata": {},
   "source": [
    "1. Пропуски обработали - удалили все значения с пропусками\n",
    "2. Удалили лишние колонки, которые не несут важной информации для обучения моделей\n",
    "3. Преобразовали категориальные признаки в численные\n",
    "4. Разбили данные на выборки\n",
    "5. Масшибировали признаки\n",
    "6. Написали вывод по предобработка"
   ]
  },
  {
   "cell_type": "markdown",
   "metadata": {},
   "source": [
    "**Логистическая регрессия**\n"
   ]
  },
  {
   "cell_type": "code",
   "execution_count": 90,
   "metadata": {},
   "outputs": [
    {
     "name": "stdout",
     "output_type": "stream",
     "text": [
      "F1-мера на валидационной выборке: 0.30400000000000005\n"
     ]
    }
   ],
   "source": [
    "model = LogisticRegression(solver='liblinear', random_state=12345)\n",
    "model.fit(features_train, target_train)\n",
    "predicted_valid = model.predict(features_valid)\n",
    "print(f'F1-мера на валидационной выборке: {f1_score(target_valid, predicted_valid)}')"
   ]
  },
  {
   "cell_type": "markdown",
   "metadata": {},
   "source": [
    "**Деревоо решений**"
   ]
  },
  {
   "cell_type": "code",
   "execution_count": 91,
   "metadata": {},
   "outputs": [
    {
     "name": "stdout",
     "output_type": "stream",
     "text": [
      "F1-мера на валидационной выборке: 0.4862023653088042,  с глубиной дерева 7\n"
     ]
    }
   ],
   "source": [
    "best_model = None\n",
    "best_result = 0\n",
    "best_depth = 0\n",
    "for depth in range(1, 20):\n",
    "    model = DecisionTreeClassifier(max_depth=depth, random_state=12345)\n",
    "    model.fit(features_train, target_train)\n",
    "    predicted_valid = model.predict(features_valid)\n",
    "    result = f1_score(target_valid, predicted_valid)\n",
    "    if result > best_result:\n",
    "        best_model = model\n",
    "        best_result = result\n",
    "        best_depth = depth\n",
    "print(f'F1-мера на валидационной выборке: {result},  с глубиной дерева {best_depth}')"
   ]
  },
  {
   "cell_type": "markdown",
   "metadata": {},
   "source": [
    "**Случайный лес**"
   ]
  },
  {
   "cell_type": "code",
   "execution_count": 93,
   "metadata": {},
   "outputs": [
    {
     "name": "stdout",
     "output_type": "stream",
     "text": [
      "F1-мера на валидационной выборке: 0.5541740674955595,  количество деревьев 21\n"
     ]
    }
   ],
   "source": [
    "best_model = 0\n",
    "best_result = 0\n",
    "best_depth = 0\n",
    "for estimator in range(1, 200):\n",
    "    model = RandomForestClassifier(n_estimators=estimator, max_depth=7, random_state=12345)\n",
    "    model.fit(features_train, target_train)\n",
    "    predicted_valid = model.predict(features_valid)\n",
    "    result = f1_score(target_valid, predicted_valid)\n",
    "    if result > best_result:\n",
    "        best_model = model\n",
    "        best_result = result\n",
    "        best_estimator = estimator\n",
    "print(f'F1-мера на валидационной выборке: {result},  количество деревьев {best_estimator}')"
   ]
  },
  {
   "cell_type": "markdown",
   "metadata": {},
   "source": [
    "**Вывод**"
   ]
  },
  {
   "cell_type": "markdown",
   "metadata": {},
   "source": [
    "По результатам исследования моделей без учёта дисбаланса классов можно сделать следующие заключения:\n",
    "1. F1-мера Логистической регрессии на валидационной выборке: 0.304, скорее всего потому что целевой признак и остальные нелинейно связаны меджду собой\n",
    "2. F1-мера на валидационной выборке Дерева решений: 0.486, с глубиной дерева 7\n",
    "3. F1-мера на валидационной выборке Случайного леса: 0.554, с  количеством деревьев 21 и глубиной дерева 7"
   ]
  },
  {
   "cell_type": "markdown",
   "metadata": {},
   "source": [
    "## Борьба с дисбалансом"
   ]
  },
  {
   "cell_type": "code",
   "execution_count": 97,
   "metadata": {},
   "outputs": [
    {
     "data": {
      "text/plain": [
       "0    7237\n",
       "1    1854\n",
       "Name: Exited, dtype: int64"
      ]
     },
     "execution_count": 97,
     "metadata": {},
     "output_type": "execute_result"
    },
    {
     "data": {
      "image/png": "[encoded data removed]",
      "text/plain": [
       "<Figure size 1080x720 with 1 Axes>"
      ]
     },
     "metadata": {
      "needs_background": "light"
     },
     "output_type": "display_data"
    }
   ],
   "source": [
    "#Еще раз посмотрим на изучаемый параметрв на рисунке без легенды (\n",
    "\n",
    "plt.figure(figsize=(15, 10))\n",
    "data_ohe[\"Exited\"].value_counts().plot(kind = \"bar\", title = \"Соотношение в целевом признаке\", label = '0-не ушел, 1-клиент ушел') \n",
    "data_ohe[\"Exited\"].value_counts()"
   ]
  },
  {
   "cell_type": "markdown",
   "metadata": {},
   "source": [
    "Ничего не поменялось за те долгие минуты, когда у меня грузила модель случайного леса"
   ]
  },
  {
   "cell_type": "markdown",
   "metadata": {},
   "source": [
    "**Балансировка классов**"
   ]
  },
  {
   "cell_type": "markdown",
   "metadata": {},
   "source": [
    "Проведем балансировку классов при помощи аргумента class_weight"
   ]
  },
  {
   "cell_type": "markdown",
   "metadata": {},
   "source": [
    "Логистическая регрессия"
   ]
  },
  {
   "cell_type": "code",
   "execution_count": 130,
   "metadata": {},
   "outputs": [
    {
     "name": "stdout",
     "output_type": "stream",
     "text": [
      "F1-мера на валидационной выборке: 0.509731232622799\n"
     ]
    }
   ],
   "source": [
    "model = LogisticRegression(solver='liblinear', random_state=12345, class_weight='balanced')\n",
    "model.fit(features_train, target_train)\n",
    "predicted_valid = model.predict(features_valid)\n",
    "print(f'F1-мера на валидационной выборке: {f1_score(target_valid, predicted_valid)}')"
   ]
  },
  {
   "cell_type": "markdown",
   "metadata": {},
   "source": [
    "Дерево решений"
   ]
  },
  {
   "cell_type": "code",
   "execution_count": 133,
   "metadata": {},
   "outputs": [
    {
     "name": "stdout",
     "output_type": "stream",
     "text": [
      "F1-мера на валидационной выборке: 0.467741935483871,  с глубиной дерева 5\n"
     ]
    }
   ],
   "source": [
    "best_model = None\n",
    "best_result = 0\n",
    "best_depth = 0\n",
    "for depth in range(1, 20):\n",
    "    model = DecisionTreeClassifier(class_weight='balanced', max_depth=depth, random_state=12345)\n",
    "    model.fit(features_train, target_train)\n",
    "    predicted_valid = model.predict(features_valid)\n",
    "    result = f1_score(target_valid, predicted_valid)\n",
    "    if result > best_result:\n",
    "        best_model = model\n",
    "        best_result = result\n",
    "        best_depth = depth\n",
    "print(f'F1-мера на валидационной выборке: {result},  с глубиной дерева {best_depth}')"
   ]
  },
  {
   "cell_type": "markdown",
   "metadata": {},
   "source": [
    "Случайный лес"
   ]
  },
  {
   "cell_type": "code",
   "execution_count": 134,
   "metadata": {},
   "outputs": [
    {
     "name": "stdout",
     "output_type": "stream",
     "text": [
      "F1-мера на валидационной выборке: 0.6027987082884823,  количество деревьев 113\n"
     ]
    }
   ],
   "source": [
    "best_model = 0\n",
    "best_result = 0\n",
    "best_depth = 0\n",
    "for estimator in range(1, 200):\n",
    "    model = RandomForestClassifier(class_weight='balanced', n_estimators=estimator, max_depth=5, random_state=12345)\n",
    "    model.fit(features_train, target_train)\n",
    "    predicted_valid = model.predict(features_valid)\n",
    "    result = f1_score(target_valid, predicted_valid)\n",
    "    if result > best_result:\n",
    "        best_model = model\n",
    "        best_result = result\n",
    "        best_estimator = estimator\n",
    "print(f'F1-мера на валидационной выборке: {result},  количество деревьев {best_estimator}')"
   ]
  },
  {
   "cell_type": "markdown",
   "metadata": {},
   "source": [
    "**Увеличение выборк**"
   ]
  },
  {
   "cell_type": "markdown",
   "metadata": {},
   "source": [
    "Сбалансируем классы путём увеличения числа, с помощью функции upsampling, в которой происходит преобразование в несколько этапов:\n",
    "1.Разделяем обучающую выборку на объекты по классам;\n",
    "2.Определяем тот класс, который содержит меньше объектов. Назовёмего меньшим классом;\n",
    "3.Скопируем несколько раз объекты меньшего класса;\n",
    "4.С учётом полученных данных создадим новую обучающую выборку;\n",
    "5.Перемешиваем данные с помощью shuffle"
   ]
  },
  {
   "cell_type": "code",
   "execution_count": 114,
   "metadata": {},
   "outputs": [],
   "source": [
    "def upsample(features, target, repeat):\n",
    "    features_zeros = features[target == 0]\n",
    "    features_ones = features[target == 1]\n",
    "    target_zeros = target[target == 0]\n",
    "    target_ones = target[target == 1]\n",
    "    \n",
    "    features_upsampled = pd.concat([features_zeros] + [features_ones] * repeat)\n",
    "    target_upsampled = pd.concat([target_zeros] + [target_ones] * repeat)\n",
    "    \n",
    "    features_upsampled, target_upsampled = shuffle(features_upsampled, target_upsampled, random_state=12345)\n",
    "    \n",
    "    return features_upsampled, target_upsampled\n",
    "\n",
    "features_upsampled, target_upsampled = upsample(features_train, target_train, 3)"
   ]
  },
  {
   "cell_type": "markdown",
   "metadata": {},
   "source": [
    "Логистическая регрессия"
   ]
  },
  {
   "cell_type": "code",
   "execution_count": 115,
   "metadata": {},
   "outputs": [
    {
     "name": "stdout",
     "output_type": "stream",
     "text": [
      "F1-мера на валидационной выборке: 0.5055679287305122\n"
     ]
    }
   ],
   "source": [
    "model = LogisticRegression(solver='liblinear', random_state=12345)\n",
    "model.fit(features_upsampled, target_upsampled)\n",
    "predicted_valid = model.predict(features_valid)\n",
    "print(f'F1-мера на валидационной выборке: {f1_score(target_valid, predicted_valid)}')"
   ]
  },
  {
   "cell_type": "markdown",
   "metadata": {},
   "source": [
    "Дерево решений"
   ]
  },
  {
   "cell_type": "code",
   "execution_count": 116,
   "metadata": {},
   "outputs": [
    {
     "name": "stdout",
     "output_type": "stream",
     "text": [
      "F1-мера на валидационной выборке: 0.4564643799472295,  с глубиной дерева 5\n"
     ]
    }
   ],
   "source": [
    "best_model = None\n",
    "best_result = 0\n",
    "best_depth = 0\n",
    "for depth in range(1, 20):\n",
    "    model = DecisionTreeClassifier(max_depth=depth, random_state=12345)\n",
    "    model.fit(features_upsampled, target_upsampled)\n",
    "    predicted_valid = model.predict(features_valid)\n",
    "    result = f1_score(target_valid, predicted_valid)\n",
    "    if result > best_result:\n",
    "        best_model = model\n",
    "        best_result = result\n",
    "        best_depth = depth\n",
    "print(f'F1-мера на валидационной выборке: {result},  с глубиной дерева {best_depth}')"
   ]
  },
  {
   "cell_type": "markdown",
   "metadata": {},
   "source": [
    "Случайный лес"
   ]
  },
  {
   "cell_type": "code",
   "execution_count": 117,
   "metadata": {},
   "outputs": [
    {
     "name": "stdout",
     "output_type": "stream",
     "text": [
      "F1-мера на валидационной выборке: 0.6206060606060605,  количество деревьев 10\n"
     ]
    }
   ],
   "source": [
    "best_model = 0\n",
    "best_result = 0\n",
    "best_depth = 0\n",
    "for estimator in range(1, 200):\n",
    "    model = RandomForestClassifier(n_estimators=estimator, max_depth=5, random_state=12345)\n",
    "    model.fit(features_upsampled, target_upsampled)\n",
    "    predicted_valid = model.predict(features_valid)\n",
    "    result = f1_score(target_valid, predicted_valid)\n",
    "    if result > best_result:\n",
    "        best_model = model\n",
    "        best_result = result\n",
    "        best_estimator = estimator\n",
    "print(f'F1-мера на валидационной выборке: {result},  количество деревьев {best_estimator}')"
   ]
  },
  {
   "cell_type": "markdown",
   "metadata": {},
   "source": [
    "**Уменьшение выборки**"
   ]
  },
  {
   "cell_type": "markdown",
   "metadata": {},
   "source": [
    "Сбалансируем классы путём уменьшения числа, с помощью функции downsampling, в которой происходит преобразование в несколько этапов:\n",
    "1.Разделяем обучающую выборку на объекты по классам;\n",
    "2.Определяем тот класс, который содержит больше объектов. Назовёмего меньшим классом;\n",
    "3.Случайным образом отбросим часть из объектов большего класса;\n",
    "4.С учётом полученных данных создадим новую обучающую выборку;\n",
    "5.Перемешиваем данные с помощью shuffle"
   ]
  },
  {
   "cell_type": "code",
   "execution_count": 125,
   "metadata": {},
   "outputs": [],
   "source": [
    "def downsample(features, target, fraction):\n",
    "    features_zeros = features[target == 0]\n",
    "    features_ones = features[target == 1]\n",
    "    target_zeros = target[target == 0]\n",
    "    target_ones = target[target == 1]\n",
    "\n",
    "    features_downsampled = pd.concat([features_zeros.sample(frac=fraction, random_state=12345)] + [features_ones])\n",
    "    target_downsampled = pd.concat([target_zeros.sample(frac=fraction, random_state=12345)] + [target_ones])\n",
    "\n",
    "    features_downsampled, target_downsampled = shuffle(features_downsampled, target_downsampled, random_state=12345)\n",
    "    \n",
    "    return features_downsampled, target_downsampled\n",
    "\n",
    "features_downsampled, target_downsampled = downsample(features_train, target_train, 0.25)"
   ]
  },
  {
   "cell_type": "markdown",
   "metadata": {},
   "source": [
    "Логистическая регрессия"
   ]
  },
  {
   "cell_type": "code",
   "execution_count": 126,
   "metadata": {},
   "outputs": [
    {
     "name": "stdout",
     "output_type": "stream",
     "text": [
      "F1-мера на валидационной выборке: 0.5044883303411131\n"
     ]
    }
   ],
   "source": [
    "model = LogisticRegression(solver='liblinear', random_state=12345)\n",
    "model.fit(features_downsampled, target_downsampled)\n",
    "predicted_valid = model.predict(features_valid)\n",
    "print(f'F1-мера на валидационной выборке: {f1_score(target_valid, predicted_valid)}')"
   ]
  },
  {
   "cell_type": "markdown",
   "metadata": {},
   "source": [
    "Дерево решений"
   ]
  },
  {
   "cell_type": "code",
   "execution_count": 127,
   "metadata": {},
   "outputs": [
    {
     "name": "stdout",
     "output_type": "stream",
     "text": [
      "F1-мера на валидационной выборке: 0.5076507650765076,  с глубиной дерева 6\n"
     ]
    }
   ],
   "source": [
    "best_model = None\n",
    "best_result = 0\n",
    "best_depth = 0\n",
    "for depth in range(1, 20):\n",
    "    model = DecisionTreeClassifier(max_depth=depth, random_state=12345)\n",
    "    model.fit(features_downsampled, target_downsampled)\n",
    "    predicted_valid = model.predict(features_valid)\n",
    "    result = f1_score(target_valid, predicted_valid)\n",
    "    if result > best_result:\n",
    "        best_model = model\n",
    "        best_result = result\n",
    "        best_depth = depth\n",
    "print(f'F1-мера на валидационной выборке: {result},  с глубиной дерева {best_depth}')"
   ]
  },
  {
   "cell_type": "markdown",
   "metadata": {},
   "source": [
    "Случайный лес"
   ]
  },
  {
   "cell_type": "code",
   "execution_count": 128,
   "metadata": {},
   "outputs": [
    {
     "name": "stdout",
     "output_type": "stream",
     "text": [
      "F1-мера на валидационной выборке: 0.5885826771653544,  количество деревьев 177\n"
     ]
    }
   ],
   "source": [
    "best_model = 0\n",
    "best_result = 0\n",
    "best_depth = 0\n",
    "for estimator in range(1, 200):\n",
    "    model = RandomForestClassifier(n_estimators=estimator, max_depth=6, random_state=12345)\n",
    "    model.fit(features_downsampled, target_downsampled)\n",
    "    predicted_valid = model.predict(features_valid)\n",
    "    result = f1_score(target_valid, predicted_valid)\n",
    "    if result > best_result:\n",
    "        best_model = model\n",
    "        best_result = result\n",
    "        best_estimator = estimator\n",
    "print(f'F1-мера на валидационной выборке: {result},  количество деревьев {best_estimator}')"
   ]
  },
  {
   "cell_type": "markdown",
   "metadata": {},
   "source": [
    "Вывод:\n",
    "1. Довели модели до заданного значения (0.59)\n",
    "При балансировки классов  с большим значением F1-score оказалась модель случайного леса F1-мера на валидационной выборке: 0.602,  количество деревьев 113 и глубиной деоева 5\n",
    "При увеличении выборки с большим значением F1-score оказалась модель случайного леса со значением 0.62, количество деревьев 10 и глубиной дерева 5\n",
    "При уменьшении выборки с большим значением F1-score оказалась модель случайного леса со значение 0.589, количеством деревьев 177 и глубиной дерева 6\n",
    "2. Для борьбы с дисбалансом провели балансировку классов с помощью функции class_weight='balanced', уменьшение выборки и увеличение выборки)"
   ]
  },
  {
   "cell_type": "markdown",
   "metadata": {},
   "source": [
    "## Тестирование модели"
   ]
  },
  {
   "cell_type": "markdown",
   "metadata": {},
   "source": [
    "На основе наших экспериментов с моделями можем сделать вывод, что лучшей моделью является случайный лес с количеством деревьев равным 113 и глубиной равной 5 с учетом балансировки классов, с помощью параметра \"class_weight = \"balanced\""
   ]
  },
  {
   "cell_type": "code",
   "execution_count": null,
   "metadata": {},
   "outputs": [],
   "source": [
    "Также хорошей моделью был случайный лес и балансировкой классов с помощью увеличеняи выборки."
   ]
  },
  {
   "cell_type": "markdown",
   "metadata": {},
   "source": [
    "Протестируем модель на тестовой выборке:"
   ]
  },
  {
   "cell_type": "code",
   "execution_count": 143,
   "metadata": {},
   "outputs": [
    {
     "name": "stdout",
     "output_type": "stream",
     "text": [
      "F1_score для валидационной выборки: 0.607142857142857\n",
      "F1_score для тестовой выборки 0.665859564164649\n"
     ]
    }
   ],
   "source": [
    "model = RandomForestClassifier(class_weight='balanced', n_estimators=113, max_depth=5, random_state=12345)\n",
    "model.fit(features_test, target_test)\n",
    "\n",
    "predicted_valid = model.predict(features_valid)\n",
    "print('F1_score для валидационной выборки:', f1_score(target_valid, predicted_valid))\n",
    "\n",
    "predicted_test = model.predict(features_test)\n",
    "print('F1_score для тестовой выборки', f1_score(target_test, predicted_test))"
   ]
  },
  {
   "cell_type": "code",
   "execution_count": 144,
   "metadata": {},
   "outputs": [],
   "source": [
    "def upsample(features, target, repeat):\n",
    "    features_zeros = features[target == 0]\n",
    "    features_ones = features[target == 1]\n",
    "    target_zeros = target[target == 0]\n",
    "    target_ones = target[target == 1]\n",
    "    \n",
    "    features_upsampled = pd.concat([features_zeros] + [features_ones] * repeat)\n",
    "    target_upsampled = pd.concat([target_zeros] + [target_ones] * repeat)\n",
    "    \n",
    "    features_upsampled, target_upsampled = shuffle(features_upsampled, target_upsampled, random_state=12345)\n",
    "    \n",
    "    return features_upsampled, target_upsampled\n",
    "\n",
    "features_upsampled, target_upsampled = upsample(features_test, target_test, 3)"
   ]
  },
  {
   "cell_type": "code",
   "execution_count": 145,
   "metadata": {},
   "outputs": [
    {
     "name": "stdout",
     "output_type": "stream",
     "text": [
      "F1_score для валидационной выборки: 0.6005586592178771\n",
      "F1_score для тестовой выборки 0.6312594840667678\n"
     ]
    }
   ],
   "source": [
    "model = RandomForestClassifier(n_estimators=10, max_depth=5, random_state=12345)\n",
    "model.fit(features_upsampled, target_upsampled)\n",
    "predicted_valid = model.predict(features_valid)\n",
    "print('F1_score для валидационной выборки:', f1_score(target_valid, predicted_valid))\n",
    "\n",
    "predicted_test = model.predict(features_test)\n",
    "print('F1_score для тестовой выборки', f1_score(target_test, predicted_test))"
   ]
  },
  {
   "cell_type": "markdown",
   "metadata": {},
   "source": [
    "**Вывод**"
   ]
  },
  {
   "cell_type": "markdown",
   "metadata": {},
   "source": [
    "Выбранные модели и техники баласировки классов позволили достичь значения F1-меры 0.66 и 0.63 в тестовой выборке"
   ]
  },
  {
   "cell_type": "markdown",
   "metadata": {},
   "source": [
    "**Общий вывод**"
   ]
  },
  {
   "cell_type": "markdown",
   "metadata": {},
   "source": [
    "1.Для проведения обучения, проверки моделей и тестирования лучшей модели исходный датафрейм был разделён на три выборки: обучающую (60%), валидационную (20%) и тестовую (20%);\n",
    "\n",
    "2.В исследовании проверяли три различные алгоритма классификации - логистическую регрессию, дерево решений и случайный лес;\n",
    "\n",
    "3.Для выбора оптимальной модели использовалась F1-мера (это метрика качества классификации, являющаяся средним гармоническим полноты и точности)\n",
    "С балансировкой классов и без неё значение F1-меры оказывалось наибольшим у случайного леса;\n",
    "\n",
    "4.Для борьбы с дисбалансом классов были применены: балансировка классов, увеличение и уменьшение выборки\n",
    "\n",
    "\n",
    "Итог:Для получения прогноза оттока клиентов наиболее подходящей моделью является модель случайного леса с глубиной 5 и количеством деревьев 113: значение F1-меры в тестовой выборке составило 0.6658 "
   ]
  }
 ],
 "metadata": {
  "ExecuteTimeLog": [
   {
    "duration": 66,
    "start_time": "2023-03-05T08:57:46.300Z"
   },
   {
    "duration": 1589,
    "start_time": "2023-03-05T09:20:20.698Z"
   },
   {
    "duration": 153,
    "start_time": "2023-03-05T09:22:41.408Z"
   },
   {
    "duration": 63,
    "start_time": "2023-03-05T09:22:47.280Z"
   },
   {
    "duration": 113,
    "start_time": "2023-03-05T09:23:10.772Z"
   },
   {
    "duration": 13,
    "start_time": "2023-03-05T09:23:17.718Z"
   },
   {
    "duration": 12,
    "start_time": "2023-03-05T09:23:32.439Z"
   },
   {
    "duration": 11,
    "start_time": "2023-03-05T09:23:35.309Z"
   },
   {
    "duration": 10,
    "start_time": "2023-03-05T09:23:37.700Z"
   },
   {
    "duration": 16,
    "start_time": "2023-03-05T09:24:06.938Z"
   },
   {
    "duration": 50,
    "start_time": "2023-03-05T09:24:47.188Z"
   },
   {
    "duration": 3,
    "start_time": "2023-03-05T09:24:55.468Z"
   },
   {
    "duration": 8,
    "start_time": "2023-03-05T09:47:15.065Z"
   },
   {
    "duration": 25,
    "start_time": "2023-03-05T09:47:19.918Z"
   },
   {
    "duration": 11,
    "start_time": "2023-03-05T09:47:39.682Z"
   },
   {
    "duration": 457,
    "start_time": "2023-03-05T09:49:36.571Z"
   },
   {
    "duration": 959,
    "start_time": "2023-03-05T09:49:44.039Z"
   },
   {
    "duration": 12,
    "start_time": "2023-03-05T10:35:32.172Z"
   },
   {
    "duration": 10,
    "start_time": "2023-03-05T10:35:37.975Z"
   },
   {
    "duration": 6,
    "start_time": "2023-03-05T10:35:56.287Z"
   },
   {
    "duration": 6,
    "start_time": "2023-03-05T10:36:13.717Z"
   },
   {
    "duration": 5,
    "start_time": "2023-03-05T10:36:21.275Z"
   },
   {
    "duration": 5,
    "start_time": "2023-03-05T10:37:19.628Z"
   },
   {
    "duration": 4,
    "start_time": "2023-03-05T10:37:35.289Z"
   },
   {
    "duration": 55,
    "start_time": "2023-03-05T10:37:40.408Z"
   },
   {
    "duration": 6,
    "start_time": "2023-03-05T10:37:46.887Z"
   },
   {
    "duration": 5,
    "start_time": "2023-03-05T10:37:48.858Z"
   },
   {
    "duration": 4,
    "start_time": "2023-03-05T10:37:50.878Z"
   },
   {
    "duration": 11,
    "start_time": "2023-03-05T10:39:39.217Z"
   },
   {
    "duration": 10,
    "start_time": "2023-03-05T10:39:52.208Z"
   },
   {
    "duration": 149,
    "start_time": "2023-03-05T10:40:05.149Z"
   },
   {
    "duration": 3,
    "start_time": "2023-03-05T10:40:10.118Z"
   },
   {
    "duration": 3,
    "start_time": "2023-03-05T10:40:11.298Z"
   },
   {
    "duration": 3,
    "start_time": "2023-03-05T10:40:13.279Z"
   },
   {
    "duration": 50,
    "start_time": "2023-03-05T10:40:13.728Z"
   },
   {
    "duration": 4,
    "start_time": "2023-03-05T10:40:14.197Z"
   },
   {
    "duration": 13,
    "start_time": "2023-03-05T10:40:14.827Z"
   },
   {
    "duration": 13,
    "start_time": "2023-03-05T10:40:15.317Z"
   },
   {
    "duration": 9,
    "start_time": "2023-03-05T10:40:15.828Z"
   },
   {
    "duration": 159,
    "start_time": "2023-03-05T10:40:16.366Z"
   },
   {
    "duration": 6,
    "start_time": "2023-03-05T10:40:16.910Z"
   },
   {
    "duration": 866,
    "start_time": "2023-03-05T10:40:17.737Z"
   },
   {
    "duration": 48,
    "start_time": "2023-03-05T10:40:33.888Z"
   },
   {
    "duration": 43,
    "start_time": "2023-03-05T10:40:39.828Z"
   },
   {
    "duration": 4,
    "start_time": "2023-03-05T10:40:42.948Z"
   },
   {
    "duration": 10,
    "start_time": "2023-03-05T10:40:44.738Z"
   },
   {
    "duration": 86,
    "start_time": "2023-03-05T10:41:07.264Z"
   },
   {
    "duration": 51,
    "start_time": "2023-03-05T10:47:06.989Z"
   },
   {
    "duration": 45,
    "start_time": "2023-03-05T10:47:14.630Z"
   },
   {
    "duration": 4,
    "start_time": "2023-03-05T10:47:17.369Z"
   },
   {
    "duration": 8,
    "start_time": "2023-03-05T10:47:21.328Z"
   },
   {
    "duration": 6,
    "start_time": "2023-03-05T10:47:24.179Z"
   },
   {
    "duration": 5,
    "start_time": "2023-03-05T10:47:32.192Z"
   },
   {
    "duration": 6,
    "start_time": "2023-03-05T10:47:34.479Z"
   },
   {
    "duration": 30,
    "start_time": "2023-03-05T10:47:40.889Z"
   },
   {
    "duration": 6,
    "start_time": "2023-03-05T10:52:31.583Z"
   },
   {
    "duration": 5,
    "start_time": "2023-03-05T10:52:40.038Z"
   },
   {
    "duration": 7,
    "start_time": "2023-03-05T10:54:41.818Z"
   },
   {
    "duration": 113,
    "start_time": "2023-03-05T10:54:56.583Z"
   },
   {
    "duration": 107,
    "start_time": "2023-03-05T10:55:08.391Z"
   },
   {
    "duration": 118,
    "start_time": "2023-03-05T10:57:52.029Z"
   },
   {
    "duration": 25,
    "start_time": "2023-03-05T11:26:00.162Z"
   },
   {
    "duration": 24,
    "start_time": "2023-03-05T11:27:00.462Z"
   },
   {
    "duration": 15,
    "start_time": "2023-03-05T11:27:51.329Z"
   },
   {
    "duration": 13,
    "start_time": "2023-03-05T11:28:03.039Z"
   },
   {
    "duration": 4,
    "start_time": "2023-03-05T11:28:50.628Z"
   },
   {
    "duration": 3,
    "start_time": "2023-03-05T11:28:52.928Z"
   },
   {
    "duration": 50,
    "start_time": "2023-03-05T11:28:53.499Z"
   },
   {
    "duration": 4,
    "start_time": "2023-03-05T11:28:53.784Z"
   },
   {
    "duration": 20,
    "start_time": "2023-03-05T11:28:54.084Z"
   },
   {
    "duration": 13,
    "start_time": "2023-03-05T11:28:54.488Z"
   },
   {
    "duration": 8,
    "start_time": "2023-03-05T11:28:54.880Z"
   },
   {
    "duration": 7,
    "start_time": "2023-03-05T11:28:55.638Z"
   },
   {
    "duration": 989,
    "start_time": "2023-03-05T11:28:55.980Z"
   },
   {
    "duration": 5,
    "start_time": "2023-03-05T11:28:57.579Z"
   },
   {
    "duration": 10,
    "start_time": "2023-03-05T11:28:58.208Z"
   },
   {
    "duration": 24,
    "start_time": "2023-03-05T11:29:42.339Z"
   },
   {
    "duration": 5,
    "start_time": "2023-03-05T11:30:06.930Z"
   },
   {
    "duration": 6,
    "start_time": "2023-03-05T11:30:10.588Z"
   },
   {
    "duration": 6,
    "start_time": "2023-03-05T11:30:12.638Z"
   },
   {
    "duration": 29,
    "start_time": "2023-03-05T11:30:14.879Z"
   },
   {
    "duration": 3,
    "start_time": "2023-03-05T11:30:32.138Z"
   },
   {
    "duration": 35,
    "start_time": "2023-03-05T11:30:34.302Z"
   },
   {
    "duration": 33,
    "start_time": "2023-03-05T11:30:38.313Z"
   },
   {
    "duration": 26,
    "start_time": "2023-03-05T11:38:38.570Z"
   },
   {
    "duration": 23,
    "start_time": "2023-03-05T11:39:06.489Z"
   },
   {
    "duration": 654,
    "start_time": "2023-03-05T11:40:33.357Z"
   },
   {
    "duration": 45,
    "start_time": "2023-03-05T11:42:21.663Z"
   },
   {
    "duration": 1562,
    "start_time": "2023-03-05T16:34:41.836Z"
   },
   {
    "duration": 100,
    "start_time": "2023-03-05T16:34:44.298Z"
   },
   {
    "duration": 4,
    "start_time": "2023-03-05T16:34:47.331Z"
   },
   {
    "duration": 13,
    "start_time": "2023-03-05T16:34:50.287Z"
   },
   {
    "duration": 12,
    "start_time": "2023-03-05T16:34:53.123Z"
   },
   {
    "duration": 8,
    "start_time": "2023-03-05T16:34:54.677Z"
   },
   {
    "duration": 8,
    "start_time": "2023-03-05T16:34:57.069Z"
   },
   {
    "duration": 792,
    "start_time": "2023-03-05T16:34:59.036Z"
   },
   {
    "duration": 4,
    "start_time": "2023-03-05T16:35:02.523Z"
   },
   {
    "duration": 8,
    "start_time": "2023-03-05T16:35:04.861Z"
   },
   {
    "duration": 5,
    "start_time": "2023-03-05T16:35:06.863Z"
   },
   {
    "duration": 5,
    "start_time": "2023-03-05T16:35:08.630Z"
   },
   {
    "duration": 5,
    "start_time": "2023-03-05T16:35:10.780Z"
   },
   {
    "duration": 3,
    "start_time": "2023-03-05T16:35:19.138Z"
   },
   {
    "duration": 117,
    "start_time": "2023-03-05T16:35:20.597Z"
   },
   {
    "duration": 104,
    "start_time": "2023-03-05T16:35:23.067Z"
   },
   {
    "duration": 4,
    "start_time": "2023-03-05T16:39:45.263Z"
   },
   {
    "duration": 137,
    "start_time": "2023-03-05T16:42:57.879Z"
   },
   {
    "duration": 48,
    "start_time": "2023-03-05T16:44:00.688Z"
   },
   {
    "duration": 20,
    "start_time": "2023-03-05T16:46:27.607Z"
   },
   {
    "duration": 62,
    "start_time": "2023-03-05T16:47:32.729Z"
   },
   {
    "duration": 47,
    "start_time": "2023-03-05T16:48:28.897Z"
   },
   {
    "duration": 503,
    "start_time": "2023-03-05T16:48:46.177Z"
   },
   {
    "duration": 62,
    "start_time": "2023-03-05T16:49:14.909Z"
   },
   {
    "duration": 74,
    "start_time": "2023-03-05T16:49:28.478Z"
   },
   {
    "duration": 400,
    "start_time": "2023-03-05T16:57:33.199Z"
   },
   {
    "duration": 423,
    "start_time": "2023-03-05T16:57:45.968Z"
   },
   {
    "duration": 376,
    "start_time": "2023-03-05T16:58:07.062Z"
   },
   {
    "duration": 372,
    "start_time": "2023-03-05T16:58:20.438Z"
   },
   {
    "duration": 397,
    "start_time": "2023-03-05T16:58:25.878Z"
   },
   {
    "duration": 382,
    "start_time": "2023-03-05T17:02:05.108Z"
   },
   {
    "duration": 463,
    "start_time": "2023-03-05T17:08:00.388Z"
   },
   {
    "duration": 1659,
    "start_time": "2023-03-08T12:57:58.545Z"
   },
   {
    "duration": 90,
    "start_time": "2023-03-08T12:58:01.515Z"
   },
   {
    "duration": 4,
    "start_time": "2023-03-08T12:58:03.788Z"
   },
   {
    "duration": 13,
    "start_time": "2023-03-08T12:58:05.635Z"
   },
   {
    "duration": 13,
    "start_time": "2023-03-08T12:58:07.865Z"
   },
   {
    "duration": 9,
    "start_time": "2023-03-08T12:58:10.605Z"
   },
   {
    "duration": 8,
    "start_time": "2023-03-08T12:58:13.595Z"
   },
   {
    "duration": 807,
    "start_time": "2023-03-08T12:59:47.205Z"
   },
   {
    "duration": 1565,
    "start_time": "2023-03-08T13:00:25.765Z"
   },
   {
    "duration": 5,
    "start_time": "2023-03-08T13:04:23.725Z"
   },
   {
    "duration": 5,
    "start_time": "2023-03-08T13:04:25.305Z"
   },
   {
    "duration": 10,
    "start_time": "2023-03-08T13:05:33.045Z"
   },
   {
    "duration": 4,
    "start_time": "2023-03-08T13:05:47.300Z"
   },
   {
    "duration": 16,
    "start_time": "2023-03-08T13:06:04.323Z"
   },
   {
    "duration": 1202,
    "start_time": "2023-03-08T13:08:41.374Z"
   },
   {
    "duration": 12,
    "start_time": "2023-03-08T13:09:04.553Z"
   },
   {
    "duration": 3,
    "start_time": "2023-03-08T13:09:09.652Z"
   },
   {
    "duration": 48,
    "start_time": "2023-03-08T13:09:11.293Z"
   },
   {
    "duration": 4,
    "start_time": "2023-03-08T13:09:13.632Z"
   },
   {
    "duration": 12,
    "start_time": "2023-03-08T13:09:15.303Z"
   },
   {
    "duration": 11,
    "start_time": "2023-03-08T13:09:17.592Z"
   },
   {
    "duration": 9,
    "start_time": "2023-03-08T13:09:19.372Z"
   },
   {
    "duration": 6,
    "start_time": "2023-03-08T13:09:21.533Z"
   },
   {
    "duration": 1568,
    "start_time": "2023-03-08T13:09:26.122Z"
   },
   {
    "duration": 5,
    "start_time": "2023-03-08T13:09:32.352Z"
   },
   {
    "duration": 13,
    "start_time": "2023-03-08T13:09:35.333Z"
   },
   {
    "duration": 12,
    "start_time": "2023-03-08T13:09:38.202Z"
   },
   {
    "duration": 14,
    "start_time": "2023-03-08T13:09:44.382Z"
   },
   {
    "duration": 13,
    "start_time": "2023-03-08T13:09:54.477Z"
   },
   {
    "duration": 5,
    "start_time": "2023-03-08T13:10:24.432Z"
   },
   {
    "duration": 7,
    "start_time": "2023-03-08T13:10:27.113Z"
   },
   {
    "duration": 51,
    "start_time": "2023-03-08T13:13:08.961Z"
   },
   {
    "duration": 47,
    "start_time": "2023-03-08T13:13:11.021Z"
   },
   {
    "duration": 4,
    "start_time": "2023-03-08T13:13:11.251Z"
   },
   {
    "duration": 13,
    "start_time": "2023-03-08T13:13:11.440Z"
   },
   {
    "duration": 11,
    "start_time": "2023-03-08T13:13:11.631Z"
   },
   {
    "duration": 7,
    "start_time": "2023-03-08T13:13:11.841Z"
   },
   {
    "duration": 6,
    "start_time": "2023-03-08T13:13:12.281Z"
   },
   {
    "duration": 1369,
    "start_time": "2023-03-08T13:13:12.902Z"
   },
   {
    "duration": 5,
    "start_time": "2023-03-08T13:13:14.611Z"
   },
   {
    "duration": 11,
    "start_time": "2023-03-08T13:13:23.181Z"
   },
   {
    "duration": 85,
    "start_time": "2023-03-08T13:13:35.571Z"
   },
   {
    "duration": 14,
    "start_time": "2023-03-08T13:13:46.132Z"
   },
   {
    "duration": 7805,
    "start_time": "2023-03-08T13:14:24.151Z"
   },
   {
    "duration": 4,
    "start_time": "2023-03-08T13:14:53.705Z"
   },
   {
    "duration": 52,
    "start_time": "2023-03-08T13:14:57.318Z"
   },
   {
    "duration": 2184,
    "start_time": "2023-03-08T13:15:03.452Z"
   },
   {
    "duration": 1273,
    "start_time": "2023-03-08T13:15:05.638Z"
   },
   {
    "duration": 56,
    "start_time": "2023-03-08T13:15:06.912Z"
   },
   {
    "duration": 3,
    "start_time": "2023-03-08T13:15:06.970Z"
   },
   {
    "duration": 24,
    "start_time": "2023-03-08T13:15:06.975Z"
   },
   {
    "duration": 14,
    "start_time": "2023-03-08T13:15:07.000Z"
   },
   {
    "duration": 16,
    "start_time": "2023-03-08T13:15:07.016Z"
   },
   {
    "duration": 8,
    "start_time": "2023-03-08T13:15:07.033Z"
   },
   {
    "duration": 1383,
    "start_time": "2023-03-08T13:15:07.043Z"
   },
   {
    "duration": 5,
    "start_time": "2023-03-08T13:15:08.428Z"
   },
   {
    "duration": 125,
    "start_time": "2023-03-08T13:15:08.435Z"
   },
   {
    "duration": 0,
    "start_time": "2023-03-08T13:15:08.562Z"
   },
   {
    "duration": 0,
    "start_time": "2023-03-08T13:15:08.564Z"
   },
   {
    "duration": 0,
    "start_time": "2023-03-08T13:15:08.565Z"
   },
   {
    "duration": 0,
    "start_time": "2023-03-08T13:15:08.566Z"
   },
   {
    "duration": 0,
    "start_time": "2023-03-08T13:15:08.567Z"
   },
   {
    "duration": 0,
    "start_time": "2023-03-08T13:15:08.568Z"
   },
   {
    "duration": 0,
    "start_time": "2023-03-08T13:15:08.569Z"
   },
   {
    "duration": 0,
    "start_time": "2023-03-08T13:15:08.570Z"
   },
   {
    "duration": 0,
    "start_time": "2023-03-08T13:15:08.571Z"
   },
   {
    "duration": 0,
    "start_time": "2023-03-08T13:15:08.572Z"
   },
   {
    "duration": 0,
    "start_time": "2023-03-08T13:15:08.677Z"
   },
   {
    "duration": 0,
    "start_time": "2023-03-08T13:15:08.678Z"
   },
   {
    "duration": 0,
    "start_time": "2023-03-08T13:15:08.679Z"
   },
   {
    "duration": 16,
    "start_time": "2023-03-08T13:16:57.622Z"
   },
   {
    "duration": 11,
    "start_time": "2023-03-08T13:17:00.087Z"
   },
   {
    "duration": 5,
    "start_time": "2023-03-08T13:17:03.851Z"
   },
   {
    "duration": 7,
    "start_time": "2023-03-08T13:17:10.681Z"
   },
   {
    "duration": 2,
    "start_time": "2023-03-08T13:17:14.911Z"
   },
   {
    "duration": 29,
    "start_time": "2023-03-08T13:17:36.602Z"
   },
   {
    "duration": 99,
    "start_time": "2023-03-08T13:17:44.551Z"
   },
   {
    "duration": 106,
    "start_time": "2023-03-08T13:19:42.851Z"
   },
   {
    "duration": 112,
    "start_time": "2023-03-08T13:20:09.180Z"
   },
   {
    "duration": 115,
    "start_time": "2023-03-08T13:20:19.632Z"
   },
   {
    "duration": 118,
    "start_time": "2023-03-08T13:21:12.931Z"
   },
   {
    "duration": 127,
    "start_time": "2023-03-08T13:21:25.760Z"
   },
   {
    "duration": 108,
    "start_time": "2023-03-08T13:22:29.801Z"
   },
   {
    "duration": 128,
    "start_time": "2023-03-08T13:23:20.203Z"
   },
   {
    "duration": 112,
    "start_time": "2023-03-08T13:23:27.541Z"
   },
   {
    "duration": 116,
    "start_time": "2023-03-08T13:24:37.530Z"
   },
   {
    "duration": 115,
    "start_time": "2023-03-08T13:24:51.249Z"
   },
   {
    "duration": 118,
    "start_time": "2023-03-08T13:24:58.603Z"
   },
   {
    "duration": 115,
    "start_time": "2023-03-08T13:27:09.779Z"
   },
   {
    "duration": 22,
    "start_time": "2023-03-08T13:27:09.896Z"
   },
   {
    "duration": 113,
    "start_time": "2023-03-08T13:27:13.130Z"
   },
   {
    "duration": 152,
    "start_time": "2023-03-08T13:27:43.670Z"
   },
   {
    "duration": 83,
    "start_time": "2023-03-08T13:28:27.030Z"
   },
   {
    "duration": 77,
    "start_time": "2023-03-08T13:28:30.139Z"
   },
   {
    "duration": 74,
    "start_time": "2023-03-08T13:28:36.150Z"
   },
   {
    "duration": 174,
    "start_time": "2023-03-08T13:28:43.920Z"
   },
   {
    "duration": 168,
    "start_time": "2023-03-08T13:29:04.363Z"
   },
   {
    "duration": 161,
    "start_time": "2023-03-08T13:29:08.989Z"
   },
   {
    "duration": 156,
    "start_time": "2023-03-08T13:29:19.860Z"
   },
   {
    "duration": 168,
    "start_time": "2023-03-08T13:29:22.911Z"
   },
   {
    "duration": 154,
    "start_time": "2023-03-08T13:30:25.351Z"
   },
   {
    "duration": 171,
    "start_time": "2023-03-08T13:30:43.490Z"
   },
   {
    "duration": 247,
    "start_time": "2023-03-08T13:31:35.851Z"
   },
   {
    "duration": 159,
    "start_time": "2023-03-08T13:31:40.840Z"
   },
   {
    "duration": 12,
    "start_time": "2023-03-08T13:31:48.380Z"
   },
   {
    "duration": 169,
    "start_time": "2023-03-08T13:32:14.881Z"
   },
   {
    "duration": 160,
    "start_time": "2023-03-08T13:32:20.929Z"
   },
   {
    "duration": 184,
    "start_time": "2023-03-08T13:32:26.849Z"
   },
   {
    "duration": 171,
    "start_time": "2023-03-08T13:32:38.050Z"
   },
   {
    "duration": 162,
    "start_time": "2023-03-08T13:32:44.331Z"
   },
   {
    "duration": 14,
    "start_time": "2023-03-08T13:32:52.680Z"
   },
   {
    "duration": 126,
    "start_time": "2023-03-08T13:33:00.480Z"
   },
   {
    "duration": 121,
    "start_time": "2023-03-08T13:33:29.890Z"
   },
   {
    "duration": 135,
    "start_time": "2023-03-08T13:33:38.499Z"
   },
   {
    "duration": 110,
    "start_time": "2023-03-08T13:33:55.599Z"
   },
   {
    "duration": 113,
    "start_time": "2023-03-08T13:36:14.620Z"
   },
   {
    "duration": 108,
    "start_time": "2023-03-08T13:36:24.299Z"
   },
   {
    "duration": 236,
    "start_time": "2023-03-08T13:36:27.159Z"
   },
   {
    "duration": 151,
    "start_time": "2023-03-08T13:36:34.639Z"
   },
   {
    "duration": 23,
    "start_time": "2023-03-08T13:40:34.879Z"
   },
   {
    "duration": 46,
    "start_time": "2023-03-08T13:40:38.230Z"
   },
   {
    "duration": 150,
    "start_time": "2023-03-08T13:41:21.141Z"
   },
   {
    "duration": 18,
    "start_time": "2023-03-08T13:46:03.326Z"
   },
   {
    "duration": 19,
    "start_time": "2023-03-08T13:46:03.789Z"
   },
   {
    "duration": 17,
    "start_time": "2023-03-08T13:46:04.921Z"
   },
   {
    "duration": 20,
    "start_time": "2023-03-08T13:46:57.140Z"
   },
   {
    "duration": 18,
    "start_time": "2023-03-08T13:46:59.550Z"
   },
   {
    "duration": 18,
    "start_time": "2023-03-08T13:47:03.959Z"
   },
   {
    "duration": 3,
    "start_time": "2023-03-08T13:47:09.887Z"
   },
   {
    "duration": 49,
    "start_time": "2023-03-08T13:47:10.541Z"
   },
   {
    "duration": 4,
    "start_time": "2023-03-08T13:47:10.750Z"
   },
   {
    "duration": 13,
    "start_time": "2023-03-08T13:47:12.921Z"
   },
   {
    "duration": 10,
    "start_time": "2023-03-08T13:47:13.126Z"
   },
   {
    "duration": 9,
    "start_time": "2023-03-08T13:47:13.366Z"
   },
   {
    "duration": 6,
    "start_time": "2023-03-08T13:47:13.706Z"
   },
   {
    "duration": 1278,
    "start_time": "2023-03-08T13:47:14.249Z"
   },
   {
    "duration": 5,
    "start_time": "2023-03-08T13:47:15.707Z"
   },
   {
    "duration": 13,
    "start_time": "2023-03-08T13:47:15.860Z"
   },
   {
    "duration": 13,
    "start_time": "2023-03-08T13:47:16.049Z"
   },
   {
    "duration": 2,
    "start_time": "2023-03-08T13:47:16.294Z"
   },
   {
    "duration": 2,
    "start_time": "2023-03-08T13:47:16.409Z"
   },
   {
    "duration": 6,
    "start_time": "2023-03-08T13:47:16.822Z"
   },
   {
    "duration": 7,
    "start_time": "2023-03-08T13:47:17.409Z"
   },
   {
    "duration": 2,
    "start_time": "2023-03-08T13:47:20.140Z"
   },
   {
    "duration": 27,
    "start_time": "2023-03-08T13:47:20.321Z"
   },
   {
    "duration": 143,
    "start_time": "2023-03-08T13:47:22.590Z"
   },
   {
    "duration": 25,
    "start_time": "2023-03-08T13:47:30.250Z"
   },
   {
    "duration": 397,
    "start_time": "2023-03-08T13:47:34.505Z"
   },
   {
    "duration": 88361,
    "start_time": "2023-03-08T13:49:10.135Z"
   },
   {
    "duration": 77,
    "start_time": "2023-03-08T13:50:38.498Z"
   },
   {
    "duration": 138,
    "start_time": "2023-03-08T13:58:44.420Z"
   },
   {
    "duration": 11,
    "start_time": "2023-03-08T14:40:11.341Z"
   },
   {
    "duration": 148,
    "start_time": "2023-03-08T14:40:48.400Z"
   },
   {
    "duration": 30,
    "start_time": "2023-03-08T14:46:31.631Z"
   },
   {
    "duration": 583,
    "start_time": "2023-03-08T14:47:09.861Z"
   },
   {
    "duration": 196792,
    "start_time": "2023-03-08T14:48:08.894Z"
   },
   {
    "duration": 130,
    "start_time": "2023-03-08T14:57:53.201Z"
   },
   {
    "duration": 23,
    "start_time": "2023-03-08T14:58:03.897Z"
   },
   {
    "duration": 537,
    "start_time": "2023-03-08T14:58:45.474Z"
   },
   {
    "duration": 24,
    "start_time": "2023-03-08T14:59:02.544Z"
   },
   {
    "duration": 99261,
    "start_time": "2023-03-08T14:59:14.863Z"
   },
   {
    "duration": 5,
    "start_time": "2023-03-08T15:03:20.632Z"
   },
   {
    "duration": 4,
    "start_time": "2023-03-08T15:03:57.922Z"
   },
   {
    "duration": 9,
    "start_time": "2023-03-08T15:05:45.142Z"
   },
   {
    "duration": 4,
    "start_time": "2023-03-08T15:05:48.222Z"
   },
   {
    "duration": 9,
    "start_time": "2023-03-08T15:05:51.342Z"
   },
   {
    "duration": 4,
    "start_time": "2023-03-08T15:06:13.592Z"
   },
   {
    "duration": 9,
    "start_time": "2023-03-08T15:06:24.462Z"
   },
   {
    "duration": 11,
    "start_time": "2023-03-08T15:06:51.432Z"
   },
   {
    "duration": 102,
    "start_time": "2023-03-08T15:06:52.729Z"
   },
   {
    "duration": 484,
    "start_time": "2023-03-08T15:06:54.743Z"
   },
   {
    "duration": 89680,
    "start_time": "2023-03-08T15:06:56.723Z"
   },
   {
    "duration": 11,
    "start_time": "2023-03-08T15:08:26.405Z"
   },
   {
    "duration": 37,
    "start_time": "2023-03-08T15:08:26.417Z"
   },
   {
    "duration": 635,
    "start_time": "2023-03-08T15:08:26.533Z"
   },
   {
    "duration": 11,
    "start_time": "2023-03-08T15:08:53.352Z"
   },
   {
    "duration": 15,
    "start_time": "2023-03-08T15:08:55.471Z"
   },
   {
    "duration": 213,
    "start_time": "2023-03-08T15:08:57.912Z"
   },
   {
    "duration": 47903,
    "start_time": "2023-03-08T15:09:00.532Z"
   },
   {
    "duration": 11,
    "start_time": "2023-03-08T15:10:04.044Z"
   },
   {
    "duration": 16,
    "start_time": "2023-03-08T15:10:05.962Z"
   },
   {
    "duration": 203,
    "start_time": "2023-03-08T15:10:08.522Z"
   },
   {
    "duration": 51462,
    "start_time": "2023-03-08T15:10:19.040Z"
   },
   {
    "duration": 100,
    "start_time": "2023-03-08T15:18:25.611Z"
   },
   {
    "duration": 21,
    "start_time": "2023-03-08T15:18:29.772Z"
   },
   {
    "duration": 448,
    "start_time": "2023-03-08T15:18:39.893Z"
   },
   {
    "duration": 89321,
    "start_time": "2023-03-08T15:18:49.133Z"
   },
   {
    "duration": 422,
    "start_time": "2023-03-08T15:20:18.456Z"
   },
   {
    "duration": 74506,
    "start_time": "2023-03-08T15:21:35.216Z"
   },
   {
    "duration": 476,
    "start_time": "2023-03-08T15:31:28.730Z"
   },
   {
    "duration": 11,
    "start_time": "2023-03-08T15:32:59.519Z"
   },
   {
    "duration": 63,
    "start_time": "2023-03-08T15:33:56.754Z"
   },
   {
    "duration": 293,
    "start_time": "2023-03-08T15:34:31.319Z"
   },
   {
    "duration": 44,
    "start_time": "2023-03-08T15:34:44.331Z"
   },
   {
    "duration": 62,
    "start_time": "2023-03-08T15:35:21.521Z"
   },
   {
    "duration": 51,
    "start_time": "2023-03-08T15:35:50.303Z"
   },
   {
    "duration": 269,
    "start_time": "2023-03-08T15:36:13.618Z"
   },
   {
    "duration": 291,
    "start_time": "2023-03-08T15:36:48.107Z"
   },
   {
    "duration": 11,
    "start_time": "2023-03-08T15:36:52.428Z"
   },
   {
    "duration": 48,
    "start_time": "2023-03-08T15:36:53.303Z"
   },
   {
    "duration": 103,
    "start_time": "2023-03-08T15:40:06.301Z"
   },
   {
    "duration": 80,
    "start_time": "2023-03-08T15:41:46.322Z"
   }
  ],
  "kernelspec": {
   "display_name": "Python 3 (ipykernel)",
   "language": "python",
   "name": "python3"
  },
  "language_info": {
   "codemirror_mode": {
    "name": "ipython",
    "version": 3
   },
   "file_extension": ".py",
   "mimetype": "text/x-python",
   "name": "python",
   "nbconvert_exporter": "python",
   "pygments_lexer": "ipython3",
   "version": "3.9.5"
  },
  "toc": {
   "base_numbering": 1,
   "nav_menu": {},
   "number_sections": true,
   "sideBar": true,
   "skip_h1_title": true,
   "title_cell": "Содержание",
   "title_sidebar": "Contents",
   "toc_cell": true,
   "toc_position": {},
   "toc_section_display": true,
   "toc_window_display": false
  }
 },
 "nbformat": 4,
 "nbformat_minor": 2
}
